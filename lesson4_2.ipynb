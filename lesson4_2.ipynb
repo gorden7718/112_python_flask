{
 "cells": [
  {
   "cell_type": "code",
   "execution_count": 5,
   "metadata": {},
   "outputs": [],
   "source": [
    "#自定function,1個參數\n",
    "def get_factor(para1):\n",
    "    #num = int(input(\"請輸入一個數值,求其因數\"))\n",
    "    print(f\"{para1}的因數是：\")\n",
    "    for i in range(1,para1+1):\n",
    "        if para1 % i == 0:\n",
    "            print(i)\n",
    "    print(\"===============\")"
   ]
  },
  {
   "cell_type": "code",
   "execution_count": 10,
   "metadata": {},
   "outputs": [
    {
     "name": "stdout",
     "output_type": "stream",
     "text": [
      "52的因數是：\n",
      "1\n",
      "2\n",
      "4\n",
      "13\n",
      "26\n",
      "52\n",
      "===============\n"
     ]
    }
   ],
   "source": [
    "#引數值\n",
    "get_factor(52)\n"
   ]
  },
  {
   "cell_type": "code",
   "execution_count": 11,
   "metadata": {},
   "outputs": [
    {
     "name": "stdout",
     "output_type": "stream",
     "text": [
      "13的因數是：\n",
      "1\n",
      "13\n",
      "===============\n",
      "25的因數是：\n",
      "1\n",
      "5\n",
      "25\n",
      "===============\n",
      "39的因數是：\n",
      "1\n",
      "3\n",
      "13\n",
      "39\n",
      "===============\n",
      "107的因數是：\n",
      "1\n",
      "107\n",
      "===============\n"
     ]
    }
   ],
   "source": [
    "for num in (13,25,39,107):\n",
    "    get_factor(num)"
   ]
  }
 ],
 "metadata": {
  "kernelspec": {
   "display_name": "Python 3",
   "language": "python",
   "name": "python3"
  },
  "language_info": {
   "codemirror_mode": {
    "name": "ipython",
    "version": 3
   },
   "file_extension": ".py",
   "mimetype": "text/x-python",
   "name": "python",
   "nbconvert_exporter": "python",
   "pygments_lexer": "ipython3",
   "version": "3.9.16"
  },
  "orig_nbformat": 4
 },
 "nbformat": 4,
 "nbformat_minor": 2
}
