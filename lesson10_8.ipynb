{
 "cells": [
  {
   "cell_type": "code",
   "execution_count": null,
   "metadata": {},
   "outputs": [],
   "source": [
    "import requests\n",
    "import pandas as pd\n",
    "\n",
    "\n",
    "url = 'https://tcgbusfs.blob.core.windows.net/dotapp/youbike/v2/youbike_immediate.json'\n",
    "response = requests.request('GET',url)\n",
    "if response.status_code == 200:\n",
    "    print(\"連線成功\")\n",
    "    all_data = response.json()\n",
    "    print(type(all_data))\n",
    "else:\n",
    "    print(f\"連線失敗:{response.status_code}\")\n",
    "\n",
    "\n",
    "\n",
    "dataFrame = pd.DataFrame(data=all_data,columns=['sna','tot','sbi','sarea','mday','ar','bemp','act'])\n",
    "\n",
    "dataFrame.columns = [\"站點名稱\",\"車數\",\"可借\",\"行政區\",\"時間\",\"地址\",\"可還\",\"狀態\"]\n",
    "dataFrame1 = dataFrame.set_index(\"站點名稱\")\n",
    "\n",
    "mask = (dataFrame1['可借'] <= 10) & (dataFrame1['可借'] >= 5)\n",
    "mask_dataFrame = dataFrame1[mask]\n",
    "count = mask_dataFrame[\"車數\"].count()\n",
    "print(count)\n",
    "print(mask_dataFrame)"
   ]
  }
 ],
 "metadata": {
  "kernelspec": {
   "display_name": "Python 3.8.10 64-bit",
   "language": "python",
   "name": "python3"
  },
  "language_info": {
   "name": "python",
   "version": "3.8.10"
  },
  "orig_nbformat": 4,
  "vscode": {
   "interpreter": {
    "hash": "a8067af1541f75f9b61743e84179f5a12efd9428d25dd98db6c8dadf7335b4e8"
   }
  }
 },
 "nbformat": 4,
 "nbformat_minor": 2
}
