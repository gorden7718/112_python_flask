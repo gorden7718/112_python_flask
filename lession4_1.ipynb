{
 "cells": [
  {
   "cell_type": "code",
   "execution_count": 3,
   "metadata": {},
   "outputs": [
    {
     "name": "stdout",
     "output_type": "stream",
     "text": [
      "已存了3月,共存了35000\n"
     ]
    }
   ],
   "source": [
    "#小明想要存錢買一輛機車,機車每輛30000元，他將每月存的錢輸入，當存款足夠買機車時，就顯示提示訊息告知\n",
    "\n",
    "deposit = 0\n",
    "num = 0\n",
    "while(deposit < 30000):\n",
    "    num += 1\n",
    "    input_value = int(input(f\"請輸入第{num}月存款:\"))\n",
    "    deposit += input_value\n",
    "    if (deposit >= 30000):\n",
    "        break\n",
    "\n",
    "print(f\"已存了{num}月,共存了{deposit}\")\n"
   ]
  },
  {
   "cell_type": "code",
   "execution_count": 7,
   "metadata": {},
   "outputs": [
    {
     "name": "stdout",
     "output_type": "stream",
     "text": [
      "所有正偶數加總是:12\n"
     ]
    }
   ],
   "source": [
    "#請設計一個程式，讓使用者輸入數值，只有加總正偶數值，不加總正奇數值，如果輸入負數，結束程式。\n",
    "\n",
    "num = 0\n",
    "sum = 0\n",
    "while(True):\n",
    "    num += 1\n",
    "    input_value = int(input(f\"諭入第{num}個數值:\"))\n",
    "    if input_value < 0:\n",
    "        break\n",
    "    elif input_value % 2 == 1:\n",
    "        continue\n",
    "    else:\n",
    "        sum += input_value\n",
    "\n",
    "print(f\"所有正偶數加總是:{sum}\")\n",
    "\n",
    "\n"
   ]
  },
  {
   "cell_type": "code",
   "execution_count": 10,
   "metadata": {},
   "outputs": [
    {
     "name": "stdout",
     "output_type": "stream",
     "text": [
      "45的因數是：\n",
      "1\n",
      "3\n",
      "5\n",
      "9\n",
      "15\n",
      "45\n",
      "===============\n"
     ]
    }
   ],
   "source": [
    "#請輸入一個數值,求其因數\n",
    "\n",
    "num = int(input(\"請輸入一個數值,求其因數\"))\n",
    "print(f\"{num}的因數是：\")\n",
    "for i in range(1,num+1):\n",
    "    if num % i == 0:\n",
    "       print(i)\n",
    "\n",
    "print(\"===============\")"
   ]
  },
  {
   "cell_type": "code",
   "execution_count": 12,
   "metadata": {},
   "outputs": [
    {
     "name": "stdout",
     "output_type": "stream",
     "text": [
      "85的因數是：\n",
      "1\n",
      "5\n",
      "17\n",
      "85\n",
      "===============\n"
     ]
    }
   ],
   "source": [
    "#自定function\n",
    "def get_factor():\n",
    "    num = int(input(\"請輸入一個數值,求其因數\"))\n",
    "    print(f\"{num}的因數是：\")\n",
    "    for i in range(1,num+1):\n",
    "        if num % i == 0:\n",
    "            print(i)\n",
    "    print(\"===============\")\n",
    "\n",
    "#呼叫function\n",
    "get_factor()\n"
   ]
  },
  {
   "cell_type": "code",
   "execution_count": null,
   "metadata": {},
   "outputs": [],
   "source": [
    "get_factor()"
   ]
  }
 ],
 "metadata": {
  "kernelspec": {
   "display_name": "Python 3",
   "language": "python",
   "name": "python3"
  },
  "language_info": {
   "codemirror_mode": {
    "name": "ipython",
    "version": 3
   },
   "file_extension": ".py",
   "mimetype": "text/x-python",
   "name": "python",
   "nbconvert_exporter": "python",
   "pygments_lexer": "ipython3",
   "version": "3.9.16"
  },
  "orig_nbformat": 4
 },
 "nbformat": 4,
 "nbformat_minor": 2
}
