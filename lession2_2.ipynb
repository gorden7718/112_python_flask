{
 "cells": [
  {
   "cell_type": "code",
   "execution_count": 3,
   "metadata": {},
   "outputs": [
    {
     "name": "stdout",
     "output_type": "stream",
     "text": [
      "15\n"
     ]
    }
   ],
   "source": [
    "n=5\n",
    "m=10\n",
    "result = input(f\"請輸入{n}+{m}的數值:\")\n",
    "print(result)"
   ]
  },
  {
   "cell_type": "code",
   "execution_count": 5,
   "metadata": {},
   "outputs": [
    {
     "name": "stdout",
     "output_type": "stream",
     "text": [
      "<class 'float'>\n",
      "1.0 + 2.0 + 3.0 = 6.0\n"
     ]
    }
   ],
   "source": [
    "a1 = float(input(\"請輸入第一個數:\"))\n",
    "a2 = float(input(\"請輸入第二個數:\"))\n",
    "a3 = float(input(\"請輸入第三個數:\"))\n",
    "print (type(a1))\n",
    "result = a1+a2+a3\n",
    "print(f\"{a1} + {a2} + {a3} = {result}\")"
   ]
  },
  {
   "cell_type": "code",
   "execution_count": 9,
   "metadata": {},
   "outputs": [
    {
     "name": "stdout",
     "output_type": "stream",
     "text": [
      "(7.0 + 8.0) * 4.0 /2 = 30.0\n"
     ]
    }
   ],
   "source": [
    "a1 = float(input(\"請輸入梯形的上底(公分):\"))\n",
    "a2 = float(input(\"請輸入梯形的下底(公分):\"))\n",
    "a3 = float(input(\"請輸入梯形的高(公分):\"))\n",
    "result = (a1+a2)*a3/2\n",
    "print(f\"({a1} + {a2}) * {a3} /2 = {result}\")"
   ]
  }
 ],
 "metadata": {
  "kernelspec": {
   "display_name": "Python 3",
   "language": "python",
   "name": "python3"
  },
  "language_info": {
   "codemirror_mode": {
    "name": "ipython",
    "version": 3
   },
   "file_extension": ".py",
   "mimetype": "text/x-python",
   "name": "python",
   "nbconvert_exporter": "python",
   "pygments_lexer": "ipython3",
   "version": "3.10.4"
  },
  "orig_nbformat": 4
 },
 "nbformat": 4,
 "nbformat_minor": 2
}
