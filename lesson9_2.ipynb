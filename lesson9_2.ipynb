{
 "cells": [
  {
   "cell_type": "code",
   "execution_count": 2,
   "metadata": {},
   "outputs": [
    {
     "name": "stdout",
     "output_type": "stream",
     "text": [
      "    國文   英文   數學   地埋  化學\n",
      "1   52   58   90   86  51\n",
      "2   77   81   62   62  82\n",
      "3   69   86   85   77  51\n",
      "4   75   72   82   64  55\n",
      "5   61   73  100   53  56\n",
      "6   61   87   83   82  93\n",
      "7   71   65   84   66  66\n",
      "8   79   63   71   76  68\n",
      "9   50   99   71   57  78\n",
      "10  58   95  100   61  55\n",
      "11  69   52   92   75  92\n",
      "12  70   71   68   73  76\n",
      "13  51   58   74   79  78\n",
      "14  57   92   97   97  54\n",
      "15  63   90   52  100  86\n",
      "16  87   68   97   58  73\n",
      "17  68   83   84   69  72\n",
      "18  82   74   97   70  81\n",
      "19  65   52   96   67  72\n",
      "20  71   97  100   94  94\n",
      "21  81  100   52   68  89\n",
      "22  53   74  100   78  51\n",
      "23  88   56   61   79  63\n",
      "24  68   77   80   60  70\n",
      "25  97   53   84   94  92\n",
      "26  77   51   80   78  60\n",
      "27  73  100   62   77  88\n",
      "28  66   91   91   79  62\n",
      "29  75   85   86   83  85\n",
      "30  61   67   51   65  76\n",
      "31  96   90   96   65  93\n",
      "32  69   83   61   70  88\n",
      "33  66   74   58   73  50\n",
      "34  95   53   85   99  59\n",
      "35  90   94   72   85  96\n",
      "36  52   62   85   55  52\n",
      "37  82   74   59   53  82\n",
      "38  92   86   91   58  87\n",
      "39  67   71   80   53  60\n",
      "40  57   59   55   88  94\n",
      "41  81   57   74   80  54\n",
      "42  55   83   57   62  57\n",
      "43  75   86   50   71  85\n",
      "44  95   64   69   85  76\n",
      "45  75   90  100   94  60\n",
      "46  98   50   68   97  64\n",
      "47  54   63   97   95  57\n",
      "48  56   98   99   77  54\n",
      "49  99   65   65   68  57\n",
      "50  89   83   89   89  65\n"
     ]
    }
   ],
   "source": [
    "import numpy as np\n",
    "import pandas as pa\n",
    "\n",
    "scores_array = np.random.randint(50,high=101,size=(50,5))\n",
    "student_dataFrame=pa.DataFrame(data=scores_array,columns=[\"國文\",\"英文\",\"數學\",\"地埋\",\"化學\"],index=range(1,51))\n",
    "student_dataFrame"
   ]
  }
 ],
 "metadata": {
  "kernelspec": {
   "display_name": "Python 3.8.10 64-bit",
   "language": "python",
   "name": "python3"
  },
  "language_info": {
   "codemirror_mode": {
    "name": "ipython",
    "version": 3
   },
   "file_extension": ".py",
   "mimetype": "text/x-python",
   "name": "python",
   "nbconvert_exporter": "python",
   "pygments_lexer": "ipython3",
   "version": "3.8.10"
  },
  "orig_nbformat": 4,
  "vscode": {
   "interpreter": {
    "hash": "a8067af1541f75f9b61743e84179f5a12efd9428d25dd98db6c8dadf7335b4e8"
   }
  }
 },
 "nbformat": 4,
 "nbformat_minor": 2
}
